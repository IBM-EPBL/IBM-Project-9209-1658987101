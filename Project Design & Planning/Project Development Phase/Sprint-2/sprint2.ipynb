{
  "nbformat": 4,
  "nbformat_minor": 0,
  "metadata": {
    "colab": {
      "provenance": []
    },
    "kernelspec": {
      "name": "python3",
      "display_name": "Python 3"
    },
    "language_info": {
      "name": "python"
    }
  },
  "cells": [
    {
      "cell_type": "code",
      "execution_count": 8,
      "metadata": {
        "id": "eGjrENVgBOxI"
      },
      "outputs": [],
      "source": [
        "import pandas as pd\n",
        "import cv2\n",
        "import os\n",
        "import numpy as np\n",
        "import random\n",
        "import pickle\n",
        "import h5py as h5"
      ]
    },
    {
      "cell_type": "code",
      "source": [
        "train_data='/content/contentdriveMyDriveTRAIN_SET/MyDrive/TRAIN_SET'"
      ],
      "metadata": {
        "id": "UQkvI-s8LZia"
      },
      "execution_count": 9,
      "outputs": []
    },
    {
      "cell_type": "code",
      "source": [
        "test_data='/content/drive/MyDrive/TEST_SET-20221117T140252Z-001'"
      ],
      "metadata": {
        "id": "ZdJAMIDELak5"
      },
      "execution_count": 10,
      "outputs": []
    },
    {
      "cell_type": "code",
      "source": [
        "from keras.preprocessing.image import ImageDataGenerator "
      ],
      "metadata": {
        "id": "ZpzCu8XLLfDG"
      },
      "execution_count": 11,
      "outputs": []
    },
    {
      "cell_type": "code",
      "source": [
        "train_datagen = ImageDataGenerator(rescale=1./255,shear_range=0.2,zoom_range=0.2,horizontal_flip=True)\n",
        "test_datagen = ImageDataGenerator(rescale=1./255)"
      ],
      "metadata": {
        "id": "K3yAl-SALfJi"
      },
      "execution_count": 12,
      "outputs": []
    },
    {
      "cell_type": "code",
      "source": [
        "x_train = train_datagen.flow_from_directory('/content/drive/MyDrive/TRAIN_SET',target_size=(64,64),batch_size=5,color_mode='rgb',class_mode='sparse')\n",
        "x_test = test_datagen.flow_from_directory('/content/drive/MyDrive/TEST_SET-20221117T140252Z-001',target_size=(64,64),batch_size=5,color_mode='rgb',class_mode='sparse')"
      ],
      "metadata": {
        "colab": {
          "base_uri": "https://localhost:8080/"
        },
        "id": "N929VE1NMCFk",
        "outputId": "25729520-ebb7-43df-c551-9dd9902e956b"
      },
      "execution_count": 15,
      "outputs": [
        {
          "output_type": "stream",
          "name": "stdout",
          "text": [
            "Found 2654 images belonging to 1 classes.\n",
            "Found 1055 images belonging to 1 classes.\n"
          ]
        }
      ]
    },
    {
      "cell_type": "code",
      "source": [
        "print(x_train.class_indices)\n",
        "print(x_test.class_indices)\n",
        "from collections import Counter as c\n",
        "c(x_train .labels)"
      ],
      "metadata": {
        "colab": {
          "base_uri": "https://localhost:8080/"
        },
        "id": "VdP5OIq5MCPf",
        "outputId": "7ea7863d-403e-4446-a716-e5a6a6d0c8dd"
      },
      "execution_count": 16,
      "outputs": [
        {
          "output_type": "stream",
          "name": "stdout",
          "text": [
            "{'TRAIN_SET': 0}\n",
            "{'TEST_SET': 0}\n"
          ]
        },
        {
          "output_type": "execute_result",
          "data": {
            "text/plain": [
              "Counter({0: 2654})"
            ]
          },
          "metadata": {},
          "execution_count": 16
        }
      ]
    },
    {
      "cell_type": "code",
      "source": [
        "import numpy as np\n",
        "import tensorflow\n",
        "from tensorflow.keras.models import Sequential\n",
        "from tensorflow.keras import layers\n",
        "from tensorflow.keras.layers import Dense,Flatten\n",
        "from tensorflow.keras.layers import Conv2D,MaxPooling2D,Dropout\n",
        "from keras.preprocessing.image import ImageDataGenerator"
      ],
      "metadata": {
        "id": "jKz-4WoxC155"
      },
      "execution_count": 17,
      "outputs": []
    },
    {
      "cell_type": "code",
      "source": [
        "model=Sequential()"
      ],
      "metadata": {
        "id": "4iriGDi1BU6v"
      },
      "execution_count": 2,
      "outputs": []
    },
    {
      "cell_type": "code",
      "source": [
        "classifier = Sequential()\n",
        "classifier.add(Conv2D(32,(3,3), input_shape=(64,64,3), activation='relu'))\n",
        "classifier.add(MaxPooling2D(pool_size=(2,2)))\n",
        "classifier.add(Conv2D(32,(3,3),activation='relu'))\n",
        "classifier.add(MaxPooling2D(pool_size=(2,2)))\n",
        "classifier.add(Flatten())"
      ],
      "metadata": {
        "id": "WHbEVjntBVF4"
      },
      "execution_count": 3,
      "outputs": []
    },
    {
      "cell_type": "code",
      "source": [
        "classifier.summary()"
      ],
      "metadata": {
        "colab": {
          "base_uri": "https://localhost:8080/"
        },
        "id": "-lS7eWT2BZeQ",
        "outputId": "3dbed379-17ab-48a7-ff6c-9d1f29aa9c4f"
      },
      "execution_count": 4,
      "outputs": [
        {
          "output_type": "stream",
          "name": "stdout",
          "text": [
            "Model: \"sequential_1\"\n",
            "_________________________________________________________________\n",
            " Layer (type)                Output Shape              Param #   \n",
            "=================================================================\n",
            " conv2d (Conv2D)             (None, 62, 62, 32)        896       \n",
            "                                                                 \n",
            " max_pooling2d (MaxPooling2D  (None, 31, 31, 32)       0         \n",
            " )                                                               \n",
            "                                                                 \n",
            " conv2d_1 (Conv2D)           (None, 29, 29, 32)        9248      \n",
            "                                                                 \n",
            " max_pooling2d_1 (MaxPooling  (None, 14, 14, 32)       0         \n",
            " 2D)                                                             \n",
            "                                                                 \n",
            " flatten (Flatten)           (None, 6272)              0         \n",
            "                                                                 \n",
            "=================================================================\n",
            "Total params: 10,144\n",
            "Trainable params: 10,144\n",
            "Non-trainable params: 0\n",
            "_________________________________________________________________\n"
          ]
        }
      ]
    },
    {
      "cell_type": "code",
      "source": [
        "classifier.compile(optimizer='adam', loss='sparse_categorical_crossentropy', metrics=['accuracy'])"
      ],
      "metadata": {
        "id": "kx25SDCtBZgc"
      },
      "execution_count": 5,
      "outputs": []
    },
    {
      "cell_type": "code",
      "source": [
        "classifier.fit_generator(generator=x_train,steps_per_epoch = len(x_train), epochs=20, validation_data=x_test, validation_steps=len(x_test))"
      ],
      "metadata": {
        "colab": {
          "base_uri": "https://localhost:8080/"
        },
        "id": "GDIf7qBIBZj6",
        "outputId": "26f269a3-d98f-45e8-8ab8-0a24c15ed453"
      },
      "execution_count": 18,
      "outputs": [
        {
          "output_type": "stream",
          "name": "stderr",
          "text": [
            "/usr/local/lib/python3.7/dist-packages/ipykernel_launcher.py:1: UserWarning: `Model.fit_generator` is deprecated and will be removed in a future version. Please use `Model.fit`, which supports generators.\n",
            "  \"\"\"Entry point for launching an IPython kernel.\n"
          ]
        },
        {
          "output_type": "stream",
          "name": "stdout",
          "text": [
            "Epoch 1/20\n",
            "531/531 [==============================] - 810s 2s/step - loss: 8.4223 - accuracy: 0.9130 - val_loss: 8.7439 - val_accuracy: 1.0000\n",
            "Epoch 2/20\n",
            "531/531 [==============================] - 22s 41ms/step - loss: 8.7439 - accuracy: 1.0000 - val_loss: 8.7439 - val_accuracy: 1.0000\n",
            "Epoch 3/20\n",
            "531/531 [==============================] - 26s 49ms/step - loss: 8.7439 - accuracy: 1.0000 - val_loss: 8.7439 - val_accuracy: 1.0000\n",
            "Epoch 4/20\n",
            "531/531 [==============================] - 22s 41ms/step - loss: 8.7439 - accuracy: 1.0000 - val_loss: 8.7439 - val_accuracy: 1.0000\n",
            "Epoch 5/20\n",
            "531/531 [==============================] - 24s 45ms/step - loss: 8.7439 - accuracy: 1.0000 - val_loss: 8.7439 - val_accuracy: 1.0000\n",
            "Epoch 6/20\n",
            "531/531 [==============================] - 24s 45ms/step - loss: 8.7439 - accuracy: 1.0000 - val_loss: 8.7439 - val_accuracy: 1.0000\n",
            "Epoch 7/20\n",
            "531/531 [==============================] - 22s 41ms/step - loss: 8.7439 - accuracy: 1.0000 - val_loss: 8.7439 - val_accuracy: 1.0000\n",
            "Epoch 8/20\n",
            "531/531 [==============================] - 24s 45ms/step - loss: 8.7439 - accuracy: 1.0000 - val_loss: 8.7439 - val_accuracy: 1.0000\n",
            "Epoch 9/20\n",
            "531/531 [==============================] - 24s 45ms/step - loss: 8.7439 - accuracy: 1.0000 - val_loss: 8.7439 - val_accuracy: 1.0000\n",
            "Epoch 10/20\n",
            "531/531 [==============================] - 22s 41ms/step - loss: 8.7439 - accuracy: 1.0000 - val_loss: 8.7439 - val_accuracy: 1.0000\n",
            "Epoch 11/20\n",
            "531/531 [==============================] - 24s 45ms/step - loss: 8.7439 - accuracy: 1.0000 - val_loss: 8.7439 - val_accuracy: 1.0000\n",
            "Epoch 12/20\n",
            "531/531 [==============================] - 22s 41ms/step - loss: 8.7439 - accuracy: 1.0000 - val_loss: 8.7439 - val_accuracy: 1.0000\n",
            "Epoch 13/20\n",
            "531/531 [==============================] - 24s 46ms/step - loss: 8.7439 - accuracy: 1.0000 - val_loss: 8.7439 - val_accuracy: 1.0000\n",
            "Epoch 14/20\n",
            "531/531 [==============================] - 22s 41ms/step - loss: 8.7439 - accuracy: 1.0000 - val_loss: 8.7439 - val_accuracy: 1.0000\n",
            "Epoch 15/20\n",
            "531/531 [==============================] - 22s 41ms/step - loss: 8.7439 - accuracy: 1.0000 - val_loss: 8.7439 - val_accuracy: 1.0000\n",
            "Epoch 16/20\n",
            "531/531 [==============================] - 23s 43ms/step - loss: 8.7439 - accuracy: 1.0000 - val_loss: 8.7439 - val_accuracy: 1.0000\n",
            "Epoch 17/20\n",
            "531/531 [==============================] - 24s 45ms/step - loss: 8.7439 - accuracy: 1.0000 - val_loss: 8.7439 - val_accuracy: 1.0000\n",
            "Epoch 18/20\n",
            "531/531 [==============================] - 22s 41ms/step - loss: 8.7439 - accuracy: 1.0000 - val_loss: 8.7439 - val_accuracy: 1.0000\n",
            "Epoch 19/20\n",
            "531/531 [==============================] - 22s 41ms/step - loss: 8.7439 - accuracy: 1.0000 - val_loss: 8.7439 - val_accuracy: 1.0000\n",
            "Epoch 20/20\n",
            "531/531 [==============================] - 25s 47ms/step - loss: 8.7439 - accuracy: 1.0000 - val_loss: 8.7439 - val_accuracy: 1.0000\n"
          ]
        },
        {
          "output_type": "execute_result",
          "data": {
            "text/plain": [
              "<keras.callbacks.History at 0x7f40e258a9d0>"
            ]
          },
          "metadata": {},
          "execution_count": 18
        }
      ]
    },
    {
      "cell_type": "code",
      "source": [
        "classifier.save('nutrition.h5')"
      ],
      "metadata": {
        "id": "JV8mE1YyBsy1"
      },
      "execution_count": 19,
      "outputs": []
    },
    {
      "cell_type": "code",
      "source": [
        "from tensorflow.keras.models import load_model\n",
        "from keras.preprocessing import image\n",
        "model = load_model(\"nutrition.h5\")"
      ],
      "metadata": {
        "id": "6_deWBewNufi"
      },
      "execution_count": 20,
      "outputs": []
    },
    {
      "cell_type": "code",
      "source": [
        "from tensorflow.keras.preprocessing import image"
      ],
      "metadata": {
        "id": "c3jAdat0O4nq"
      },
      "execution_count": 21,
      "outputs": []
    },
    {
      "cell_type": "code",
      "source": [
        "img = image.load_img('/content/drive/MyDrive/TEST_SET-20221117T140252Z-001/TEST_SET/APPLES/152_100.jpg',grayscale=False,target_size= (64,64))\n",
        "x = image.img_to_array(img)\n",
        "x = np.expand_dims(x,axis = 0)\n",
        "pred = np.argmax(model.predict(x),axis=1)\n",
        "pred"
      ],
      "metadata": {
        "colab": {
          "base_uri": "https://localhost:8080/"
        },
        "id": "7gLEPQNuPFg0",
        "outputId": "0e8c4d3e-7efe-4a78-b5e0-543c31558e28"
      },
      "execution_count": 22,
      "outputs": [
        {
          "output_type": "stream",
          "name": "stdout",
          "text": [
            "1/1 [==============================] - 0s 191ms/step\n"
          ]
        },
        {
          "output_type": "execute_result",
          "data": {
            "text/plain": [
              "array([0])"
            ]
          },
          "metadata": {},
          "execution_count": 22
        }
      ]
    },
    {
      "cell_type": "code",
      "source": [
        "index=['APPLES', 'BANANA', 'ORANGE', 'PINEAPPLE', 'WATERMELON']\n",
        "result=str(index[pred[0]])\n",
        "result"
      ],
      "metadata": {
        "colab": {
          "base_uri": "https://localhost:8080/",
          "height": 35
        },
        "id": "pVJ3ar7XPFo8",
        "outputId": "35f4ce37-6bb0-44f5-f7c2-22f7ab81399e"
      },
      "execution_count": 23,
      "outputs": [
        {
          "output_type": "execute_result",
          "data": {
            "text/plain": [
              "'APPLES'"
            ],
            "application/vnd.google.colaboratory.intrinsic+json": {
              "type": "string"
            }
          },
          "metadata": {},
          "execution_count": 23
        }
      ]
    }
  ]
}