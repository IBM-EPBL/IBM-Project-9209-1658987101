{
  "cells": [
    {
      "cell_type": "code",
      "execution_count": 38,
      "metadata": {
        "colab": {
          "base_uri": "https://localhost:8080/"
        },
        "id": "3H086X23Jeuv",
        "outputId": "246cffba-4e9e-4492-b2c2-635021ec2341"
      },
      "outputs": [
        {
          "output_type": "stream",
          "name": "stdout",
          "text": [
            "Drive already mounted at /content/drive; to attempt to forcibly remount, call drive.mount(\"/content/drive\", force_remount=True).\n"
          ]
        }
      ],
      "source": [
        "from google.colab import drive\n",
        "drive.mount('/content/drive')"
      ]
    },
    {
      "cell_type": "markdown",
      "source": [
        "# New Section"
      ],
      "metadata": {
        "id": "cLjNxEq_OXQD"
      }
    },
    {
      "cell_type": "code",
      "execution_count": null,
      "metadata": {
        "id": "aopX4sMpJ-lR"
      },
      "outputs": [],
      "source": [
        "!unzip '/content/drive/MyDrive/Flowers-Dataset.zip'\n"
      ]
    },
    {
      "cell_type": "code",
      "execution_count": 42,
      "metadata": {
        "id": "F-QDn9-zLzxA"
      },
      "outputs": [],
      "source": [
        "from tensorflow.keras.models import Sequential\n",
        "from tensorflow.keras.layers import Dense"
      ]
    },
    {
      "cell_type": "code",
      "execution_count": 43,
      "metadata": {
        "id": "f6YH4IPvQXsv"
      },
      "outputs": [],
      "source": [
        "from tensorflow.keras.preprocessing.image import ImageDataGenerator"
      ]
    },
    {
      "cell_type": "code",
      "execution_count": 44,
      "metadata": {
        "id": "UiID8BOOQZhw"
      },
      "outputs": [],
      "source": [
        "train_data=ImageDataGenerator(rescale=1./255,horizontal_flip=True,vertical_flip=True,zoom_range=0.2)"
      ]
    },
    {
      "cell_type": "code",
      "execution_count": 45,
      "metadata": {
        "id": "g5u5V1uGQZlt"
      },
      "outputs": [],
      "source": [
        "test_data=ImageDataGenerator(rescale=1./255)"
      ]
    },
    {
      "cell_type": "code",
      "execution_count": 46,
      "metadata": {
        "colab": {
          "base_uri": "https://localhost:8080/"
        },
        "id": "1wKWzIn0QZov",
        "outputId": "57fb0663-bb2d-4ba5-be35-d788d46b5a78"
      },
      "outputs": [
        {
          "output_type": "stream",
          "name": "stdout",
          "text": [
            "Found 4317 images belonging to 5 classes.\n"
          ]
        }
      ],
      "source": [
        "x_train=train_data.flow_from_directory(\"/content/flowers\",target_size=(100,100),class_mode=\"categorical\",batch_size=24)"
      ]
    },
    {
      "cell_type": "code",
      "execution_count": 47,
      "metadata": {
        "colab": {
          "base_uri": "https://localhost:8080/"
        },
        "id": "3Vm3QgLRQZsN",
        "outputId": "9a50f6e5-7229-4818-dbd5-d52d9fe89251"
      },
      "outputs": [
        {
          "output_type": "stream",
          "name": "stdout",
          "text": [
            "Found 4317 images belonging to 5 classes.\n"
          ]
        }
      ],
      "source": [
        "x_test=test_data.flow_from_directory(\"/content/flowers\",target_size=(100,100),class_mode=\"categorical\",batch_size=24)"
      ]
    },
    {
      "cell_type": "code",
      "execution_count": 49,
      "metadata": {
        "colab": {
          "base_uri": "https://localhost:8080/"
        },
        "id": "svRTUETSK7CY",
        "outputId": "de409c56-bfd8-4254-f998-017f34cb7f83"
      },
      "outputs": [
        {
          "output_type": "execute_result",
          "data": {
            "text/plain": [
              "{'daisy': 0, 'dandelion': 1, 'rose': 2, 'sunflower': 3, 'tulip': 4}"
            ]
          },
          "metadata": {},
          "execution_count": 49
        }
      ],
      "source": [
        "x_train.class_indices"
      ]
    },
    {
      "cell_type": "code",
      "execution_count": 50,
      "metadata": {
        "id": "7PIchfOaQnvL"
      },
      "outputs": [],
      "source": [
        "from tensorflow.keras.layers import Convolution2D,MaxPooling2D,Flatten,Dense"
      ]
    },
    {
      "cell_type": "code",
      "execution_count": 51,
      "metadata": {
        "id": "AjJn-NJfQnxv"
      },
      "outputs": [],
      "source": [
        "model=Sequential()"
      ]
    },
    {
      "cell_type": "code",
      "execution_count": 52,
      "metadata": {
        "id": "zUDu-8mAQn0T"
      },
      "outputs": [],
      "source": [
        "model.add(Convolution2D(50,(3,3),activation=\"relu\",input_shape=(100,100,3)))"
      ]
    },
    {
      "cell_type": "code",
      "execution_count": 53,
      "metadata": {
        "id": "kMyaVx_uQn3B"
      },
      "outputs": [],
      "source": [
        "model.add(MaxPooling2D(pool_size=(2,2)))\n"
      ]
    },
    {
      "cell_type": "code",
      "execution_count": 54,
      "metadata": {
        "id": "K-3SJP9VQn5i"
      },
      "outputs": [],
      "source": [
        "model.add(Flatten())\n"
      ]
    },
    {
      "cell_type": "code",
      "execution_count": 55,
      "metadata": {
        "id": "PWYspYQEQn8K"
      },
      "outputs": [],
      "source": [
        "model.add(Dense(300,activation ='relu'))  # Hidden layer 1\n",
        "model.add(Dense(300,activation ='relu'))  # Hidden layer 2\n",
        "model.add(Dense(5,activation=\"softmax\"))  # Output layer "
      ]
    },
    {
      "cell_type": "code",
      "execution_count": 56,
      "metadata": {
        "id": "jF0V0_LSQn-w"
      },
      "outputs": [],
      "source": [
        "model.compile(loss=\"categorical_crossentropy\",metrics=[\"accuracy\"],optimizer='adam')\n"
      ]
    },
    {
      "cell_type": "code",
      "execution_count": 57,
      "metadata": {
        "colab": {
          "base_uri": "https://localhost:8080/"
        },
        "id": "--Hkqe3tQoBX",
        "outputId": "5d728841-073c-4fb4-b034-9886999bde8f"
      },
      "outputs": [
        {
          "output_type": "execute_result",
          "data": {
            "text/plain": [
              "180"
            ]
          },
          "metadata": {},
          "execution_count": 57
        }
      ],
      "source": [
        "len(x_train)\n"
      ]
    },
    {
      "cell_type": "code",
      "execution_count": 58,
      "metadata": {
        "colab": {
          "base_uri": "https://localhost:8080/"
        },
        "id": "afm1oMj_QoFA",
        "outputId": "405c2d63-987f-4752-b1e7-77b06193ad25"
      },
      "outputs": [
        {
          "output_type": "stream",
          "name": "stdout",
          "text": [
            "Epoch 1/5\n",
            "180/180 [==============================] - 93s 511ms/step - loss: 1.4135 - accuracy: 0.4790 - val_loss: 1.0936 - val_accuracy: 0.5886\n",
            "Epoch 2/5\n",
            "180/180 [==============================] - 90s 500ms/step - loss: 1.0197 - accuracy: 0.6018 - val_loss: 0.9547 - val_accuracy: 0.6245\n",
            "Epoch 3/5\n",
            "180/180 [==============================] - 89s 493ms/step - loss: 0.9220 - accuracy: 0.6368 - val_loss: 0.9255 - val_accuracy: 0.6495\n",
            "Epoch 4/5\n",
            "180/180 [==============================] - 89s 492ms/step - loss: 0.9022 - accuracy: 0.6528 - val_loss: 1.0863 - val_accuracy: 0.6215\n",
            "Epoch 5/5\n",
            "180/180 [==============================] - 89s 494ms/step - loss: 0.8568 - accuracy: 0.6715 - val_loss: 0.7607 - val_accuracy: 0.7060\n"
          ]
        },
        {
          "output_type": "execute_result",
          "data": {
            "text/plain": [
              "<keras.callbacks.History at 0x7f25a184bf10>"
            ]
          },
          "metadata": {},
          "execution_count": 58
        }
      ],
      "source": [
        "model.fit(x_train,epochs=5,validation_data=x_test,steps_per_epoch= len(x_train),validation_steps=len(x_test))\n"
      ]
    },
    {
      "cell_type": "code",
      "execution_count": 60,
      "metadata": {
        "id": "r_YAmidSR7UZ"
      },
      "outputs": [],
      "source": [
        "model.save(\"flower.h5\")\n"
      ]
    },
    {
      "cell_type": "code",
      "execution_count": 34,
      "metadata": {
        "id": "LPTJHnf8R7jM"
      },
      "outputs": [],
      "source": [
        "from tensorflow.keras.models import load_model\n",
        "from tensorflow.keras.preprocessing import image\n",
        "import numpy as np"
      ]
    },
    {
      "cell_type": "code",
      "execution_count": 25,
      "metadata": {
        "id": "ZooFDwY8R7mE"
      },
      "outputs": [],
      "source": [
        "model=load_model(\"/content/flower.h5\")\n"
      ]
    },
    {
      "cell_type": "code",
      "execution_count": 61,
      "metadata": {
        "colab": {
          "base_uri": "https://localhost:8080/",
          "height": 117
        },
        "id": "tyPmdronR7o7",
        "outputId": "d45b3b10-fa81-451d-b4a3-da8eb4eea385"
      },
      "outputs": [
        {
          "output_type": "execute_result",
          "data": {
            "text/plain": [
              "<PIL.Image.Image image mode=RGB size=100x100 at 0x7F25A2A46E10>"
            ],
            "image/png": "[encoded data removed]"
          },
          "metadata": {},
          "execution_count": 61
        }
      ],
      "source": [
        "img=image.load_img(\"/content/flowers/daisy/10172379554_b296050f82_n.jpg\",target_size=(100,100))\n",
        "img"
      ]
    },
    {
      "cell_type": "code",
      "execution_count": 62,
      "metadata": {
        "colab": {
          "base_uri": "https://localhost:8080/"
        },
        "id": "brSkDkNgR7rz",
        "outputId": "1cf542af-8640-463f-96a9-377527f26569"
      },
      "outputs": [
        {
          "output_type": "execute_result",
          "data": {
            "text/plain": [
              "array([[[126., 124., 112.],\n",
              "        [107., 107.,  97.],\n",
              "        [ 93.,  87.,  87.],\n",
              "        ...,\n",
              "        [131., 144., 124.],\n",
              "        [171., 174., 153.],\n",
              "        [142., 152., 128.]],\n",
              "\n",
              "       [[106., 107., 102.],\n",
              "        [ 91.,  86.,  90.],\n",
              "        [ 73.,  59.,  74.],\n",
              "        ...,\n",
              "        [128., 140., 128.],\n",
              "        [121., 125., 110.],\n",
              "        [118., 126., 111.]],\n",
              "\n",
              "       [[ 97.,  92.,  99.],\n",
              "        [ 80.,  68.,  82.],\n",
              "        [ 67.,  49.,  73.],\n",
              "        ...,\n",
              "        [105., 113., 102.],\n",
              "        [118., 127., 108.],\n",
              "        [110., 121., 104.]],\n",
              "\n",
              "       ...,\n",
              "\n",
              "       [[ 26.,  11.,  40.],\n",
              "        [ 24.,   9.,  38.],\n",
              "        [ 26.,   7.,  35.],\n",
              "        ...,\n",
              "        [ 42.,  18.,  78.],\n",
              "        [ 46.,  20.,  81.],\n",
              "        [ 48.,  20.,  81.]],\n",
              "\n",
              "       [[ 28.,  12.,  41.],\n",
              "        [ 28.,  12.,  41.],\n",
              "        [ 22.,   8.,  34.],\n",
              "        ...,\n",
              "        [ 47.,  21.,  82.],\n",
              "        [ 50.,  24.,  85.],\n",
              "        [ 50.,  22.,  83.]],\n",
              "\n",
              "       [[ 25.,   9.,  38.],\n",
              "        [ 26.,  10.,  39.],\n",
              "        [ 24.,  11.,  39.],\n",
              "        ...,\n",
              "        [ 50.,  22.,  81.],\n",
              "        [ 53.,  25.,  86.],\n",
              "        [ 52.,  24.,  85.]]], dtype=float32)"
            ]
          },
          "metadata": {},
          "execution_count": 62
        }
      ],
      "source": [
        "x=image.img_to_array(img)\n",
        "x"
      ]
    },
    {
      "cell_type": "code",
      "execution_count": 63,
      "metadata": {
        "colab": {
          "base_uri": "https://localhost:8080/"
        },
        "id": "Zi_zhD4VR7ut",
        "outputId": "12cf93ba-ebcf-4f82-d2d0-0b9437c2adb1"
      },
      "outputs": [
        {
          "output_type": "execute_result",
          "data": {
            "text/plain": [
              "array([[[126., 124., 112.],\n",
              "        [107., 107.,  97.],\n",
              "        [ 93.,  87.,  87.],\n",
              "        ...,\n",
              "        [131., 144., 124.],\n",
              "        [171., 174., 153.],\n",
              "        [142., 152., 128.]],\n",
              "\n",
              "       [[106., 107., 102.],\n",
              "        [ 91.,  86.,  90.],\n",
              "        [ 73.,  59.,  74.],\n",
              "        ...,\n",
              "        [128., 140., 128.],\n",
              "        [121., 125., 110.],\n",
              "        [118., 126., 111.]],\n",
              "\n",
              "       [[ 97.,  92.,  99.],\n",
              "        [ 80.,  68.,  82.],\n",
              "        [ 67.,  49.,  73.],\n",
              "        ...,\n",
              "        [105., 113., 102.],\n",
              "        [118., 127., 108.],\n",
              "        [110., 121., 104.]],\n",
              "\n",
              "       ...,\n",
              "\n",
              "       [[ 26.,  11.,  40.],\n",
              "        [ 24.,   9.,  38.],\n",
              "        [ 26.,   7.,  35.],\n",
              "        ...,\n",
              "        [ 42.,  18.,  78.],\n",
              "        [ 46.,  20.,  81.],\n",
              "        [ 48.,  20.,  81.]],\n",
              "\n",
              "       [[ 28.,  12.,  41.],\n",
              "        [ 28.,  12.,  41.],\n",
              "        [ 22.,   8.,  34.],\n",
              "        ...,\n",
              "        [ 47.,  21.,  82.],\n",
              "        [ 50.,  24.,  85.],\n",
              "        [ 50.,  22.,  83.]],\n",
              "\n",
              "       [[ 25.,   9.,  38.],\n",
              "        [ 26.,  10.,  39.],\n",
              "        [ 24.,  11.,  39.],\n",
              "        ...,\n",
              "        [ 50.,  22.,  81.],\n",
              "        [ 53.,  25.,  86.],\n",
              "        [ 52.,  24.,  85.]]], dtype=float32)"
            ]
          },
          "metadata": {},
          "execution_count": 63
        }
      ],
      "source": [
        "x = image.img_to_array(img)\n",
        "x"
      ]
    },
    {
      "cell_type": "code",
      "execution_count": 64,
      "metadata": {
        "colab": {
          "base_uri": "https://localhost:8080/"
        },
        "id": "mXD-ckS_MILv",
        "outputId": "35d8a937-de0a-498a-a8fd-937003025884"
      },
      "outputs": [
        {
          "output_type": "execute_result",
          "data": {
            "text/plain": [
              "array([[[[126., 124., 112.],\n",
              "         [107., 107.,  97.],\n",
              "         [ 93.,  87.,  87.],\n",
              "         ...,\n",
              "         [131., 144., 124.],\n",
              "         [171., 174., 153.],\n",
              "         [142., 152., 128.]],\n",
              "\n",
              "        [[106., 107., 102.],\n",
              "         [ 91.,  86.,  90.],\n",
              "         [ 73.,  59.,  74.],\n",
              "         ...,\n",
              "         [128., 140., 128.],\n",
              "         [121., 125., 110.],\n",
              "         [118., 126., 111.]],\n",
              "\n",
              "        [[ 97.,  92.,  99.],\n",
              "         [ 80.,  68.,  82.],\n",
              "         [ 67.,  49.,  73.],\n",
              "         ...,\n",
              "         [105., 113., 102.],\n",
              "         [118., 127., 108.],\n",
              "         [110., 121., 104.]],\n",
              "\n",
              "        ...,\n",
              "\n",
              "        [[ 26.,  11.,  40.],\n",
              "         [ 24.,   9.,  38.],\n",
              "         [ 26.,   7.,  35.],\n",
              "         ...,\n",
              "         [ 42.,  18.,  78.],\n",
              "         [ 46.,  20.,  81.],\n",
              "         [ 48.,  20.,  81.]],\n",
              "\n",
              "        [[ 28.,  12.,  41.],\n",
              "         [ 28.,  12.,  41.],\n",
              "         [ 22.,   8.,  34.],\n",
              "         ...,\n",
              "         [ 47.,  21.,  82.],\n",
              "         [ 50.,  24.,  85.],\n",
              "         [ 50.,  22.,  83.]],\n",
              "\n",
              "        [[ 25.,   9.,  38.],\n",
              "         [ 26.,  10.,  39.],\n",
              "         [ 24.,  11.,  39.],\n",
              "         ...,\n",
              "         [ 50.,  22.,  81.],\n",
              "         [ 53.,  25.,  86.],\n",
              "         [ 52.,  24.,  85.]]]], dtype=float32)"
            ]
          },
          "metadata": {},
          "execution_count": 64
        }
      ],
      "source": [
        "x=np.expand_dims(x,axis=0)\n",
        "x"
      ]
    },
    {
      "cell_type": "code",
      "execution_count": 65,
      "metadata": {
        "colab": {
          "base_uri": "https://localhost:8080/"
        },
        "id": "qROt1KzeLtB8",
        "outputId": "f59efdcb-693e-45ee-ad28-96b78bc07720"
      },
      "outputs": [
        {
          "output_type": "stream",
          "name": "stdout",
          "text": [
            "1/1 [==============================] - 0s 118ms/step\n"
          ]
        }
      ],
      "source": [
        "y=np.argmax(model.predict(x),axis=0)"
      ]
    },
    {
      "cell_type": "code",
      "execution_count": 66,
      "metadata": {
        "colab": {
          "base_uri": "https://localhost:8080/"
        },
        "id": "Jp1_0XaZLwTv",
        "outputId": "460af2a1-ca6b-44e0-9d4e-c86e45248efe"
      },
      "outputs": [
        {
          "output_type": "execute_result",
          "data": {
            "text/plain": [
              "array([0, 0, 0, 0, 0])"
            ]
          },
          "metadata": {},
          "execution_count": 66
        }
      ],
      "source": [
        "y"
      ]
    },
    {
      "cell_type": "code",
      "execution_count": 67,
      "metadata": {
        "colab": {
          "base_uri": "https://localhost:8080/"
        },
        "id": "1ulM9cIq4DgT",
        "outputId": "e2771610-3efc-4391-aeb6-03f801ef51c7"
      },
      "outputs": [
        {
          "output_type": "execute_result",
          "data": {
            "text/plain": [
              "{'daisy': 0, 'dandelion': 1, 'rose': 2, 'sunflower': 3, 'tulip': 4}"
            ]
          },
          "metadata": {},
          "execution_count": 67
        }
      ],
      "source": [
        "x_train.class_indices"
      ]
    },
    {
      "cell_type": "code",
      "execution_count": 68,
      "metadata": {
        "id": "5hmlFI9pR79h"
      },
      "outputs": [],
      "source": [
        "class_name=[\"Daisy\",\"Dandelion\",\"Rose\",\"Sunflower\",\"Tulip\"]"
      ]
    },
    {
      "cell_type": "code",
      "execution_count": 69,
      "metadata": {
        "colab": {
          "base_uri": "https://localhost:8080/",
          "height": 35
        },
        "id": "_dXsIGaDSp69",
        "outputId": "440cbeda-4817-4cf9-f216-ee49165bd0de"
      },
      "outputs": [
        {
          "output_type": "execute_result",
          "data": {
            "text/plain": [
              "'Daisy'"
            ],
            "application/vnd.google.colaboratory.intrinsic+json": {
              "type": "string"
            }
          },
          "metadata": {},
          "execution_count": 69
        }
      ],
      "source": [
        "class_name[y[0]]"
      ]
    },
    {
      "cell_type": "code",
      "execution_count": 29,
      "metadata": {
        "id": "Bei-wi4TSqKF"
      },
      "outputs": [],
      "source": []
    }
  ],
  "metadata": {
    "colab": {
      "collapsed_sections": [],
      "provenance": []
    },
    "kernelspec": {
      "display_name": "Python 3",
      "name": "python3"
    },
    "language_info": {
      "name": "python"
    }
  },
  "nbformat": 4,
  "nbformat_minor": 0
}